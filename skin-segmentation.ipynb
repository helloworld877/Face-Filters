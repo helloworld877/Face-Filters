{
 "cells": [
  {
   "cell_type": "code",
   "execution_count": 1,
   "metadata": {},
   "outputs": [],
   "source": [
    "import cv2\n",
    "import numpy as np\n",
    "from sklearn.mixture import GaussianMixture\n",
    "import matplotlib.pyplot as plt\n",
    "from matplotlib.patches import Ellipse\n",
    "import skimage.io as io"
   ]
  },
  {
   "cell_type": "code",
   "execution_count": 2,
   "metadata": {},
   "outputs": [],
   "source": [
    "def fit_elliptical_boundary_model(features):\n",
    "    # Fit a Gaussian Mixture Model (GMM) to the features\n",
    "    gmm = GaussianMixture(n_components=1, covariance_type='full')\n",
    "    print(features.size)\n",
    "    gmm.fit(features) \n",
    "    # Get the parameters of the fitted Gaussian component\n",
    "    mean = gmm.means_[0]\n",
    "    cov_matrix = gmm.covariances_[0]\n",
    "\n",
    "    # Calculate the eigenvalues and eigenvectors of the covariance matrix\n",
    "    eigenvalues, eigenvectors = np.linalg.eigh(cov_matrix)\n",
    "\n",
    "    # Sort the eigenvalues and eigenvectors in descending order\n",
    "    indices = np.argsort(eigenvalues)[::-1]\n",
    "    eigenvalues = eigenvalues[indices]\n",
    "    eigenvectors = eigenvectors[:, indices]\n",
    "\n",
    "    # Calculate the angle of rotation for the ellipse\n",
    "    angle = np.degrees(np.arctan2(*eigenvectors[:, 0][::-1]))\n",
    "\n",
    "    # Create an ellipse using matplotlib\n",
    "    ellipse = Ellipse(mean, 2 * np.sqrt(5.991 * eigenvalues[0]),\n",
    "                      2 * np.sqrt(5.991 * eigenvalues[1]), angle=angle,\n",
    "                      fill=False, color='red', linewidth=2)\n",
    "\n",
    "    return ellipse\n"
   ]
  },
  {
   "cell_type": "code",
   "execution_count": 3,
   "metadata": {},
   "outputs": [],
   "source": [
    "def visualize_elliptical_boundary_model(image, ellipse):\n",
    "    # Display the image with the fitted ellipse\n",
    "    plt.imshow(cv2.cvtColor(image, cv2.COLOR_BGR2RGB))\n",
    "    plt.gca().add_patch(ellipse)\n",
    "    plt.axis('off')\n",
    "    plt.show()"
   ]
  },
  {
   "cell_type": "code",
   "execution_count": 4,
   "metadata": {},
   "outputs": [
    {
     "ename": "error",
     "evalue": "OpenCV(4.7.0) D:\\bld\\libopencv_1675730129252\\work\\modules\\imgproc\\src\\color.cpp:182: error: (-215:Assertion failed) !_src.empty() in function 'cv::cvtColor'\n",
     "output_type": "error",
     "traceback": [
      "\u001b[1;31m---------------------------------------------------------------------------\u001b[0m",
      "\u001b[1;31merror\u001b[0m                                     Traceback (most recent call last)",
      "\u001b[1;32md:\\College\\CMPS446\\Project\\Project\\Image-Processing-Project\\skin-segmentation.ipynb Cell 4\u001b[0m line \u001b[0;36m1\n\u001b[0;32m     <a href='vscode-notebook-cell:/d%3A/College/CMPS446/Project/Project/Image-Processing-Project/skin-segmentation.ipynb#W3sZmlsZQ%3D%3D?line=15'>16</a>\u001b[0m     visualize_elliptical_boundary_model(image, ellipse)\n\u001b[0;32m     <a href='vscode-notebook-cell:/d%3A/College/CMPS446/Project/Project/Image-Processing-Project/skin-segmentation.ipynb#W3sZmlsZQ%3D%3D?line=17'>18</a>\u001b[0m \u001b[39mif\u001b[39;00m \u001b[39m__name__\u001b[39m \u001b[39m==\u001b[39m \u001b[39m\"\u001b[39m\u001b[39m__main__\u001b[39m\u001b[39m\"\u001b[39m:\n\u001b[1;32m---> <a href='vscode-notebook-cell:/d%3A/College/CMPS446/Project/Project/Image-Processing-Project/skin-segmentation.ipynb#W3sZmlsZQ%3D%3D?line=18'>19</a>\u001b[0m     main()\n",
      "\u001b[1;32md:\\College\\CMPS446\\Project\\Project\\Image-Processing-Project\\skin-segmentation.ipynb Cell 4\u001b[0m line \u001b[0;36m7\n\u001b[0;32m      <a href='vscode-notebook-cell:/d%3A/College/CMPS446/Project/Project/Image-Processing-Project/skin-segmentation.ipynb#W3sZmlsZQ%3D%3D?line=3'>4</a>\u001b[0m image \u001b[39m=\u001b[39m cv2\u001b[39m.\u001b[39mimread(image_path)\n\u001b[0;32m      <a href='vscode-notebook-cell:/d%3A/College/CMPS446/Project/Project/Image-Processing-Project/skin-segmentation.ipynb#W3sZmlsZQ%3D%3D?line=5'>6</a>\u001b[0m \u001b[39m# Convert the image to YCrCb color space\u001b[39;00m\n\u001b[1;32m----> <a href='vscode-notebook-cell:/d%3A/College/CMPS446/Project/Project/Image-Processing-Project/skin-segmentation.ipynb#W3sZmlsZQ%3D%3D?line=6'>7</a>\u001b[0m ycrcb \u001b[39m=\u001b[39m cv2\u001b[39m.\u001b[39mcvtColor(image, cv2\u001b[39m.\u001b[39mCOLOR_BGR2YCrCb)\n\u001b[0;32m      <a href='vscode-notebook-cell:/d%3A/College/CMPS446/Project/Project/Image-Processing-Project/skin-segmentation.ipynb#W3sZmlsZQ%3D%3D?line=8'>9</a>\u001b[0m \u001b[39m# Extract the Cr and Cb channels as features\u001b[39;00m\n\u001b[0;32m     <a href='vscode-notebook-cell:/d%3A/College/CMPS446/Project/Project/Image-Processing-Project/skin-segmentation.ipynb#W3sZmlsZQ%3D%3D?line=9'>10</a>\u001b[0m features \u001b[39m=\u001b[39m ycrcb[:, :, \u001b[39m1\u001b[39m:\u001b[39m3\u001b[39m]\u001b[39m.\u001b[39mreshape((\u001b[39m-\u001b[39m\u001b[39m1\u001b[39m, \u001b[39m2\u001b[39m))\n",
      "\u001b[1;31merror\u001b[0m: OpenCV(4.7.0) D:\\bld\\libopencv_1675730129252\\work\\modules\\imgproc\\src\\color.cpp:182: error: (-215:Assertion failed) !_src.empty() in function 'cv::cvtColor'\n"
     ]
    }
   ],
   "source": [
    "def main():\n",
    "    # Load an example image\n",
    "    image_path = \"face.jpeg\"\n",
    "    image = cv2.imread(image_path)\n",
    "\n",
    "    # Convert the image to YCrCb color space\n",
    "    ycrcb = cv2.cvtColor(image, cv2.COLOR_BGR2YCrCb)\n",
    "\n",
    "    # Extract the Cr and Cb channels as features\n",
    "    features = ycrcb[:, :, 1:3].reshape((-1, 2))\n",
    "\n",
    "    # Fit an elliptical boundary model to the features\n",
    "    ellipse = fit_elliptical_boundary_model(features)\n",
    "\n",
    "    # Visualize the elliptical boundary model\n",
    "    visualize_elliptical_boundary_model(image, ellipse)\n",
    "\n",
    "if __name__ == \"__main__\":\n",
    "    main()"
   ]
  },
  {
   "cell_type": "code",
   "execution_count": null,
   "metadata": {},
   "outputs": [],
   "source": []
  }
 ],
 "metadata": {
  "kernelspec": {
   "display_name": "base",
   "language": "python",
   "name": "python3"
  },
  "language_info": {
   "codemirror_mode": {
    "name": "ipython",
    "version": 3
   },
   "file_extension": ".py",
   "mimetype": "text/x-python",
   "name": "python",
   "nbconvert_exporter": "python",
   "pygments_lexer": "ipython3",
   "version": "3.11.5"
  }
 },
 "nbformat": 4,
 "nbformat_minor": 2
}
